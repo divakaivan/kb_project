{
 "cells": [
  {
   "cell_type": "code",
   "execution_count": null,
   "metadata": {},
   "outputs": [],
   "source": [
    "import pandas as pd\n",
    "from neo4j import GraphDatabase\n",
    "\n",
    "def create_driver(uri, user, password, timeout=300):\n",
    "    return GraphDatabase.driver(uri, auth=(user, password), connection_timeout=timeout)\n",
    "\n",
    "def load_data():\n",
    "    uri = \"neo4j://localhost:7687\"\n",
    "    driver = create_driver(uri, \"neo4j\", \"password\")\n",
    "    with driver.session() as session:\n",
    "        # Query for CreditCard nodes\n",
    "        cc_query = \"\"\"\n",
    "        MATCH (c:CreditCard)\n",
    "        RETURN c.cc_num AS cc_num, c.lat AS lat, c.long AS long\n",
    "        \"\"\"\n",
    "        credit_card_nodes = pd.DataFrame([dict(record) for record in session.run(cc_query)])\n",
    "        \n",
    "        # Query for Merchant nodes\n",
    "        merchant_query = \"\"\"\n",
    "        MATCH (m:Merchant)\n",
    "        RETURN m.name AS merchant, m.merch_lat AS merch_lat, m.merch_long AS merch_long\n",
    "        \"\"\"\n",
    "        merchant_nodes = pd.DataFrame([dict(record) for record in session.run(merchant_query)])\n",
    "        \n",
    "        # Query for Transaction edges\n",
    "        transaction_query = \"\"\"\n",
    "        MATCH (c:CreditCard)-[t:TRANSACTION]->(m:Merchant)\n",
    "        RETURN c.cc_num AS cc_num, m.name AS merchant, t.amt AS amt, t.category AS category, t.trans_date_trans_time AS trans_date_trans_time, t.is_fraud AS is_fraud\n",
    "        \"\"\"\n",
    "        transactions = pd.DataFrame([dict(record) for record in session.run(transaction_query)])\n",
    "        \n",
    "    return credit_card_nodes, merchant_nodes, transactions\n",
    "\n",
    "credit_card_nodes, merchant_nodes, transactions = load_data()"
   ]
  }
 ],
 "metadata": {
  "language_info": {
   "name": "python"
  }
 },
 "nbformat": 4,
 "nbformat_minor": 2
}
