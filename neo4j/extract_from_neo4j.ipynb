{
 "cells": [
  {
   "cell_type": "code",
   "execution_count": 1,
   "metadata": {},
   "outputs": [],
   "source": [
    "import pandas as pd\n",
    "from neo4j import GraphDatabase\n",
    "\n",
    "def create_driver(uri, user, password, timeout=300):\n",
    "    return GraphDatabase.driver(uri, auth=(user, password), connection_timeout=timeout)\n",
    "\n",
    "def load_data():\n",
    "    uri = \"neo4j://localhost:7687\"\n",
    "    driver = create_driver(uri, \"neo4j\", \"password\")\n",
    "    with driver.session() as session:\n",
    "        # Query for CreditCard nodes\n",
    "        cc_query = \"\"\"\n",
    "        MATCH (c:CreditCard)\n",
    "        RETURN c.cc_num AS cc_num, c.lat AS lat, c.long AS long\n",
    "        \"\"\"\n",
    "        credit_card_nodes = pd.DataFrame([dict(record) for record in session.run(cc_query)])\n",
    "        \n",
    "        # Query for Merchant nodes\n",
    "        merchant_query = \"\"\"\n",
    "        MATCH (m:Merchant)\n",
    "        RETURN m.name AS merchant, m.merch_lat AS merch_lat, m.merch_long AS merch_long\n",
    "        \"\"\"\n",
    "        merchant_nodes = pd.DataFrame([dict(record) for record in session.run(merchant_query)])\n",
    "        \n",
    "        # Query for Transaction edges\n",
    "        transaction_query = \"\"\"\n",
    "        MATCH (c:CreditCard)-[t:TRANSACTION]->(m:Merchant)\n",
    "        RETURN c.cc_num AS cc_num, m.name AS merchant, t.amt AS amt, t.category AS category, t.trans_date_trans_time AS trans_date_trans_time, t.is_fraud AS is_fraud\n",
    "        \"\"\"\n",
    "        transactions = pd.DataFrame([dict(record) for record in session.run(transaction_query)])\n",
    "        \n",
    "    return credit_card_nodes, merchant_nodes, transactions\n",
    "\n",
    "credit_card_nodes, merchant_nodes, transactions = load_data() \n",
    "# ~ 30 sec to run"
   ]
  },
  {
   "cell_type": "code",
   "execution_count": 2,
   "metadata": {},
   "outputs": [
    {
     "data": {
      "text/html": [
       "<div>\n",
       "<style scoped>\n",
       "    .dataframe tbody tr th:only-of-type {\n",
       "        vertical-align: middle;\n",
       "    }\n",
       "\n",
       "    .dataframe tbody tr th {\n",
       "        vertical-align: top;\n",
       "    }\n",
       "\n",
       "    .dataframe thead th {\n",
       "        text-align: right;\n",
       "    }\n",
       "</style>\n",
       "<table border=\"1\" class=\"dataframe\">\n",
       "  <thead>\n",
       "    <tr style=\"text-align: right;\">\n",
       "      <th></th>\n",
       "      <th>cc_num</th>\n",
       "      <th>lat</th>\n",
       "      <th>long</th>\n",
       "    </tr>\n",
       "  </thead>\n",
       "  <tbody>\n",
       "    <tr>\n",
       "      <th>0</th>\n",
       "      <td>2703186189652095</td>\n",
       "      <td>36.0788</td>\n",
       "      <td>-81.1781</td>\n",
       "    </tr>\n",
       "  </tbody>\n",
       "</table>\n",
       "</div>"
      ],
      "text/plain": [
       "             cc_num      lat     long\n",
       "0  2703186189652095  36.0788 -81.1781"
      ]
     },
     "execution_count": 2,
     "metadata": {},
     "output_type": "execute_result"
    }
   ],
   "source": [
    "credit_card_nodes.head(1)"
   ]
  },
  {
   "cell_type": "code",
   "execution_count": 3,
   "metadata": {},
   "outputs": [
    {
     "data": {
      "text/html": [
       "<div>\n",
       "<style scoped>\n",
       "    .dataframe tbody tr th:only-of-type {\n",
       "        vertical-align: middle;\n",
       "    }\n",
       "\n",
       "    .dataframe tbody tr th {\n",
       "        vertical-align: top;\n",
       "    }\n",
       "\n",
       "    .dataframe thead th {\n",
       "        text-align: right;\n",
       "    }\n",
       "</style>\n",
       "<table border=\"1\" class=\"dataframe\">\n",
       "  <thead>\n",
       "    <tr style=\"text-align: right;\">\n",
       "      <th></th>\n",
       "      <th>merchant</th>\n",
       "      <th>merch_lat</th>\n",
       "      <th>merch_long</th>\n",
       "    </tr>\n",
       "  </thead>\n",
       "  <tbody>\n",
       "    <tr>\n",
       "      <th>0</th>\n",
       "      <td>fraud_Rippin, Kub and Mann</td>\n",
       "      <td>31.164104</td>\n",
       "      <td>-91.01738</td>\n",
       "    </tr>\n",
       "  </tbody>\n",
       "</table>\n",
       "</div>"
      ],
      "text/plain": [
       "                     merchant  merch_lat  merch_long\n",
       "0  fraud_Rippin, Kub and Mann  31.164104   -91.01738"
      ]
     },
     "execution_count": 3,
     "metadata": {},
     "output_type": "execute_result"
    }
   ],
   "source": [
    "merchant_nodes.head(1)"
   ]
  },
  {
   "cell_type": "code",
   "execution_count": 4,
   "metadata": {},
   "outputs": [
    {
     "data": {
      "text/html": [
       "<div>\n",
       "<style scoped>\n",
       "    .dataframe tbody tr th:only-of-type {\n",
       "        vertical-align: middle;\n",
       "    }\n",
       "\n",
       "    .dataframe tbody tr th {\n",
       "        vertical-align: top;\n",
       "    }\n",
       "\n",
       "    .dataframe thead th {\n",
       "        text-align: right;\n",
       "    }\n",
       "</style>\n",
       "<table border=\"1\" class=\"dataframe\">\n",
       "  <thead>\n",
       "    <tr style=\"text-align: right;\">\n",
       "      <th></th>\n",
       "      <th>cc_num</th>\n",
       "      <th>merchant</th>\n",
       "      <th>amt</th>\n",
       "      <th>category</th>\n",
       "      <th>trans_date_trans_time</th>\n",
       "      <th>is_fraud</th>\n",
       "    </tr>\n",
       "  </thead>\n",
       "  <tbody>\n",
       "    <tr>\n",
       "      <th>0</th>\n",
       "      <td>502049568400</td>\n",
       "      <td>fraud_Rippin, Kub and Mann</td>\n",
       "      <td>2.95</td>\n",
       "      <td>misc_net</td>\n",
       "      <td>2019-01-18 01:46:20</td>\n",
       "      <td>0</td>\n",
       "    </tr>\n",
       "  </tbody>\n",
       "</table>\n",
       "</div>"
      ],
      "text/plain": [
       "         cc_num                    merchant   amt  category  \\\n",
       "0  502049568400  fraud_Rippin, Kub and Mann  2.95  misc_net   \n",
       "\n",
       "  trans_date_trans_time  is_fraud  \n",
       "0   2019-01-18 01:46:20         0  "
      ]
     },
     "execution_count": 4,
     "metadata": {},
     "output_type": "execute_result"
    }
   ],
   "source": [
    "transactions.head(1)"
   ]
  },
  {
   "cell_type": "code",
   "execution_count": null,
   "metadata": {},
   "outputs": [],
   "source": []
  }
 ],
 "metadata": {
  "kernelspec": {
   "display_name": "base",
   "language": "python",
   "name": "python3"
  },
  "language_info": {
   "codemirror_mode": {
    "name": "ipython",
    "version": 3
   },
   "file_extension": ".py",
   "mimetype": "text/x-python",
   "name": "python",
   "nbconvert_exporter": "python",
   "pygments_lexer": "ipython3",
   "version": "3.11.9"
  }
 },
 "nbformat": 4,
 "nbformat_minor": 2
}
