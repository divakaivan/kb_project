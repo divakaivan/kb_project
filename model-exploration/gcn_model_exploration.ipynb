{
 "cells": [
  {
   "cell_type": "code",
   "execution_count": 1,
   "metadata": {},
   "outputs": [],
   "source": [
    "import pandas as pd"
   ]
  },
  {
   "cell_type": "code",
   "execution_count": 2,
   "metadata": {},
   "outputs": [
    {
     "data": {
      "text/html": [
       "<div>\n",
       "<style scoped>\n",
       "    .dataframe tbody tr th:only-of-type {\n",
       "        vertical-align: middle;\n",
       "    }\n",
       "\n",
       "    .dataframe tbody tr th {\n",
       "        vertical-align: top;\n",
       "    }\n",
       "\n",
       "    .dataframe thead th {\n",
       "        text-align: right;\n",
       "    }\n",
       "</style>\n",
       "<table border=\"1\" class=\"dataframe\">\n",
       "  <thead>\n",
       "    <tr style=\"text-align: right;\">\n",
       "      <th></th>\n",
       "      <th>trans_date_trans_time</th>\n",
       "      <th>cc_num</th>\n",
       "      <th>merchant</th>\n",
       "      <th>category</th>\n",
       "      <th>amt</th>\n",
       "      <th>first</th>\n",
       "      <th>last</th>\n",
       "      <th>gender</th>\n",
       "      <th>street</th>\n",
       "      <th>city</th>\n",
       "      <th>state</th>\n",
       "      <th>zip</th>\n",
       "      <th>lat</th>\n",
       "      <th>long</th>\n",
       "      <th>city_pop</th>\n",
       "      <th>job</th>\n",
       "      <th>dob</th>\n",
       "      <th>trans_num</th>\n",
       "      <th>unix_time</th>\n",
       "      <th>merch_lat</th>\n",
       "      <th>merch_long</th>\n",
       "      <th>is_fraud</th>\n",
       "    </tr>\n",
       "  </thead>\n",
       "  <tbody>\n",
       "    <tr>\n",
       "      <th>0</th>\n",
       "      <td>2020-06-21 12:14:25</td>\n",
       "      <td>2291163933867244</td>\n",
       "      <td>fraud_Kirlin and Sons</td>\n",
       "      <td>personal_care</td>\n",
       "      <td>2.86</td>\n",
       "      <td>Jeff</td>\n",
       "      <td>Elliott</td>\n",
       "      <td>M</td>\n",
       "      <td>351 Darlene Green</td>\n",
       "      <td>Columbia</td>\n",
       "      <td>SC</td>\n",
       "      <td>29209</td>\n",
       "      <td>33.9659</td>\n",
       "      <td>-80.9355</td>\n",
       "      <td>333497</td>\n",
       "      <td>Mechanical engineer</td>\n",
       "      <td>1968-03-19</td>\n",
       "      <td>2da90c7d74bd46a0caf3777415b3ebd3</td>\n",
       "      <td>1371816865</td>\n",
       "      <td>33.986391</td>\n",
       "      <td>-81.200714</td>\n",
       "      <td>0</td>\n",
       "    </tr>\n",
       "  </tbody>\n",
       "</table>\n",
       "</div>"
      ],
      "text/plain": [
       "  trans_date_trans_time            cc_num               merchant  \\\n",
       "0   2020-06-21 12:14:25  2291163933867244  fraud_Kirlin and Sons   \n",
       "\n",
       "        category   amt first     last gender             street      city  \\\n",
       "0  personal_care  2.86  Jeff  Elliott      M  351 Darlene Green  Columbia   \n",
       "\n",
       "  state    zip      lat     long  city_pop                  job         dob  \\\n",
       "0    SC  29209  33.9659 -80.9355    333497  Mechanical engineer  1968-03-19   \n",
       "\n",
       "                          trans_num   unix_time  merch_lat  merch_long  \\\n",
       "0  2da90c7d74bd46a0caf3777415b3ebd3  1371816865  33.986391  -81.200714   \n",
       "\n",
       "   is_fraud  \n",
       "0         0  "
      ]
     },
     "execution_count": 2,
     "metadata": {},
     "output_type": "execute_result"
    }
   ],
   "source": [
    "pd.set_option('display.max_columns', None)\n",
    "df = pd.read_csv('../dev/fraudTest.csv', index_col=0)\n",
    "df = df.dropna()\n",
    "df.head(1)"
   ]
  },
  {
   "cell_type": "markdown",
   "metadata": {},
   "source": [
    "## Load data to neo4j"
   ]
  },
  {
   "cell_type": "code",
   "execution_count": null,
   "metadata": {},
   "outputs": [],
   "source": [
    "from neo4j import GraphDatabase\n",
    "import pandas as pd\n",
    "import time\n",
    "import logging\n",
    "\n",
    "def create_driver(uri, user, password, timeout=300):\n",
    "    return GraphDatabase.driver(uri, auth=(user, password), connection_timeout=timeout)\n",
    "\n",
    "def batch(iterable, n=1):\n",
    "    l = len(iterable)\n",
    "    for ndx in range(0, l, n):\n",
    "        yield iterable[ndx:min(ndx + n, l)]\n",
    "\n",
    "def retry(operation, attempts=3, wait_time=5):\n",
    "    for attempt in range(attempts):\n",
    "        try:\n",
    "            return operation()\n",
    "        except Exception as e:\n",
    "            print(f\"Attempt {attempt + 1} failed: {e}\")\n",
    "            if attempt < attempts - 1:\n",
    "                time.sleep(wait_time)\n",
    "            else:\n",
    "                raise\n",
    "\n",
    "def insert_data_in_neo4j(df, driver):\n",
    "    with driver.session() as session:\n",
    "\n",
    "        credit_card_nodes = df[['cc_num', 'first', 'last', 'gender', 'street', 'city', 'state', 'zip', 'lat', 'long', 'city_pop', 'job', 'dob']].drop_duplicates()\n",
    "        credit_card_query = \"\"\"\n",
    "        UNWIND $rows as row\n",
    "        MERGE (c:CreditCard {cc_num: row.cc_num})\n",
    "        SET c.first = row.first, c.last = row.last, c.gender = row.gender, c.street = row.street,\n",
    "            c.city = row.city, c.state = row.state, c.zip = row.zip, c.lat = row.lat,\n",
    "            c.long = row.long, c.city_pop = row.city_pop, c.job = row.job, c.dob = row.dob\n",
    "        \"\"\"\n",
    "        retry(lambda: session.run(credit_card_query, {'rows': credit_card_nodes.to_dict('records')}))\n",
    "        \n",
    "\n",
    "        merchant_nodes = df[['merchant', 'merch_lat', 'merch_long']].drop_duplicates()\n",
    "        merchant_query = \"\"\"\n",
    "        UNWIND $rows as row\n",
    "        MERGE (m:Merchant {name: row.merchant})\n",
    "        SET m.merch_lat = row.merch_lat, m.merch_long = row.merch_long\n",
    "        \"\"\"\n",
    "        for batch_data in batch(merchant_nodes.to_dict('records'), 1000):\n",
    "            retry(lambda: session.run(merchant_query, {'rows': batch_data}))\n",
    "        \n",
    "\n",
    "        transaction_edges = df[['cc_num', 'merchant', 'trans_date_trans_time', 'amt', 'category', 'is_fraud']]\n",
    "        transaction_query = \"\"\"\n",
    "        UNWIND $rows as row\n",
    "        MATCH (c:CreditCard {cc_num: row.cc_num}), (m:Merchant {name: row.merchant})\n",
    "        CREATE (c)-[:TRANSACTION {trans_date_trans_time: row.trans_date_trans_time, amt: row.amt, category: row.category, is_fraud: row.is_fraud}]->(m)\n",
    "        \"\"\"\n",
    "        for batch_data in batch(transaction_edges.to_dict('records'), 1000):\n",
    "            retry(lambda: session.run(transaction_query, {'rows': batch_data}))\n",
    "\n",
    "uri = \"neo4j://localhost:7687\"\n",
    "driver = create_driver(uri, \"neo4j\", \"password\")\n",
    "\n",
    "insert_data_in_neo4j(df, driver)\n",
    "\n",
    "print(\"Nodes and edges inserted successfully\")\n",
    "\n",
    "driver.close()\n"
   ]
  },
  {
   "cell_type": "code",
   "execution_count": 5,
   "metadata": {},
   "outputs": [],
   "source": [
    "from neo4j import GraphDatabase\n",
    "def create_driver(uri, user, password, timeout=300):\n",
    "    return GraphDatabase.driver(uri, auth=(user, password), connection_timeout=timeout)\n",
    "\n",
    "uri = \"neo4j://localhost:7687\"\n",
    "driver = create_driver(uri, \"neo4j\", \"password\")"
   ]
  },
  {
   "cell_type": "markdown",
   "metadata": {},
   "source": [
    "## Extract from neo4j"
   ]
  },
  {
   "cell_type": "code",
   "execution_count": 6,
   "metadata": {},
   "outputs": [],
   "source": [
    "import pandas as pd\n",
    "\n",
    "def extract_data_from_neo4j(driver):\n",
    "    with driver.session() as session:\n",
    "\n",
    "        cc_query = \"\"\"\n",
    "        MATCH (c:CreditCard)\n",
    "        RETURN c.cc_num AS cc_num, c.city AS city, \n",
    "               c.city_pop AS city_pop, c.dob AS dob, \n",
    "               c.first AS first, c.gender AS gender,\n",
    "               c.job AS job, c.last AS last,\n",
    "               c.lat AS lat, c.long AS long,\n",
    "               c.state AS state, c.street AS street,\n",
    "               c.zip AS zip\n",
    "        \"\"\"\n",
    "        credit_card_nodes = pd.DataFrame([dict(record) for record in session.run(cc_query)])\n",
    "        \n",
    "        merchant_query = \"\"\"\n",
    "        MATCH (m:Merchant)\n",
    "        RETURN m.name AS merchant, m.merch_lat AS merch_lat, m.merch_long AS merch_long\n",
    "        \"\"\"\n",
    "        merchant_nodes = pd.DataFrame([dict(record) for record in session.run(merchant_query)])\n",
    "        \n",
    "        transaction_query = \"\"\"\n",
    "        MATCH (c:CreditCard)-[t:TRANSACTION]->(m:Merchant)\n",
    "        RETURN c.cc_num AS cc_num, m.name AS merchant, t.trans_date_trans_time AS trans_date_trans_time,\n",
    "               t.amt AS amt, t.category AS category, t.is_fraud AS is_fraud\n",
    "        \"\"\"\n",
    "        transactions = pd.DataFrame([dict(record) for record in session.run(transaction_query)])\n",
    "        \n",
    "    return credit_card_nodes, merchant_nodes, transactions\n",
    "\n",
    "credit_card_nodes, merchant_nodes, transactions = extract_data_from_neo4j(driver)"
   ]
  },
  {
   "cell_type": "code",
   "execution_count": 7,
   "metadata": {},
   "outputs": [
    {
     "data": {
      "text/html": [
       "<div>\n",
       "<style scoped>\n",
       "    .dataframe tbody tr th:only-of-type {\n",
       "        vertical-align: middle;\n",
       "    }\n",
       "\n",
       "    .dataframe tbody tr th {\n",
       "        vertical-align: top;\n",
       "    }\n",
       "\n",
       "    .dataframe thead th {\n",
       "        text-align: right;\n",
       "    }\n",
       "</style>\n",
       "<table border=\"1\" class=\"dataframe\">\n",
       "  <thead>\n",
       "    <tr style=\"text-align: right;\">\n",
       "      <th></th>\n",
       "      <th>cc_num</th>\n",
       "      <th>city</th>\n",
       "      <th>city_pop</th>\n",
       "      <th>dob</th>\n",
       "      <th>first</th>\n",
       "      <th>gender</th>\n",
       "      <th>job</th>\n",
       "      <th>last</th>\n",
       "      <th>lat</th>\n",
       "      <th>long</th>\n",
       "      <th>state</th>\n",
       "      <th>street</th>\n",
       "      <th>zip</th>\n",
       "    </tr>\n",
       "  </thead>\n",
       "  <tbody>\n",
       "    <tr>\n",
       "      <th>0</th>\n",
       "      <td>2703186189652095</td>\n",
       "      <td>Moravian Falls</td>\n",
       "      <td>3495</td>\n",
       "      <td>1988-03-09</td>\n",
       "      <td>Jennifer</td>\n",
       "      <td>F</td>\n",
       "      <td>Psychologist, counselling</td>\n",
       "      <td>Banks</td>\n",
       "      <td>36.0788</td>\n",
       "      <td>-81.1781</td>\n",
       "      <td>NC</td>\n",
       "      <td>561 Perry Cove</td>\n",
       "      <td>28654</td>\n",
       "    </tr>\n",
       "  </tbody>\n",
       "</table>\n",
       "</div>"
      ],
      "text/plain": [
       "             cc_num            city  city_pop         dob     first gender  \\\n",
       "0  2703186189652095  Moravian Falls      3495  1988-03-09  Jennifer      F   \n",
       "\n",
       "                         job   last      lat     long state          street  \\\n",
       "0  Psychologist, counselling  Banks  36.0788 -81.1781    NC  561 Perry Cove   \n",
       "\n",
       "     zip  \n",
       "0  28654  "
      ]
     },
     "execution_count": 7,
     "metadata": {},
     "output_type": "execute_result"
    }
   ],
   "source": [
    "credit_card_nodes.head(1)"
   ]
  },
  {
   "cell_type": "code",
   "execution_count": 8,
   "metadata": {},
   "outputs": [
    {
     "data": {
      "text/html": [
       "<div>\n",
       "<style scoped>\n",
       "    .dataframe tbody tr th:only-of-type {\n",
       "        vertical-align: middle;\n",
       "    }\n",
       "\n",
       "    .dataframe tbody tr th {\n",
       "        vertical-align: top;\n",
       "    }\n",
       "\n",
       "    .dataframe thead th {\n",
       "        text-align: right;\n",
       "    }\n",
       "</style>\n",
       "<table border=\"1\" class=\"dataframe\">\n",
       "  <thead>\n",
       "    <tr style=\"text-align: right;\">\n",
       "      <th></th>\n",
       "      <th>merchant</th>\n",
       "      <th>merch_lat</th>\n",
       "      <th>merch_long</th>\n",
       "    </tr>\n",
       "  </thead>\n",
       "  <tbody>\n",
       "    <tr>\n",
       "      <th>0</th>\n",
       "      <td>fraud_Rippin, Kub and Mann</td>\n",
       "      <td>31.164104</td>\n",
       "      <td>-91.01738</td>\n",
       "    </tr>\n",
       "  </tbody>\n",
       "</table>\n",
       "</div>"
      ],
      "text/plain": [
       "                     merchant  merch_lat  merch_long\n",
       "0  fraud_Rippin, Kub and Mann  31.164104   -91.01738"
      ]
     },
     "execution_count": 8,
     "metadata": {},
     "output_type": "execute_result"
    }
   ],
   "source": [
    "merchant_nodes.head(1)"
   ]
  },
  {
   "cell_type": "code",
   "execution_count": 9,
   "metadata": {},
   "outputs": [
    {
     "data": {
      "text/html": [
       "<div>\n",
       "<style scoped>\n",
       "    .dataframe tbody tr th:only-of-type {\n",
       "        vertical-align: middle;\n",
       "    }\n",
       "\n",
       "    .dataframe tbody tr th {\n",
       "        vertical-align: top;\n",
       "    }\n",
       "\n",
       "    .dataframe thead th {\n",
       "        text-align: right;\n",
       "    }\n",
       "</style>\n",
       "<table border=\"1\" class=\"dataframe\">\n",
       "  <thead>\n",
       "    <tr style=\"text-align: right;\">\n",
       "      <th></th>\n",
       "      <th>cc_num</th>\n",
       "      <th>merchant</th>\n",
       "      <th>trans_date_trans_time</th>\n",
       "      <th>amt</th>\n",
       "      <th>category</th>\n",
       "      <th>is_fraud</th>\n",
       "    </tr>\n",
       "  </thead>\n",
       "  <tbody>\n",
       "    <tr>\n",
       "      <th>0</th>\n",
       "      <td>502049568400</td>\n",
       "      <td>fraud_Rippin, Kub and Mann</td>\n",
       "      <td>2019-01-18 01:46:20</td>\n",
       "      <td>2.95</td>\n",
       "      <td>misc_net</td>\n",
       "      <td>0</td>\n",
       "    </tr>\n",
       "  </tbody>\n",
       "</table>\n",
       "</div>"
      ],
      "text/plain": [
       "         cc_num                    merchant trans_date_trans_time   amt  \\\n",
       "0  502049568400  fraud_Rippin, Kub and Mann   2019-01-18 01:46:20  2.95   \n",
       "\n",
       "   category  is_fraud  \n",
       "0  misc_net         0  "
      ]
     },
     "execution_count": 9,
     "metadata": {},
     "output_type": "execute_result"
    }
   ],
   "source": [
    "transactions.head(1)"
   ]
  },
  {
   "cell_type": "code",
   "execution_count": 10,
   "metadata": {},
   "outputs": [
    {
     "data": {
      "text/html": [
       "<div>\n",
       "<style scoped>\n",
       "    .dataframe tbody tr th:only-of-type {\n",
       "        vertical-align: middle;\n",
       "    }\n",
       "\n",
       "    .dataframe tbody tr th {\n",
       "        vertical-align: top;\n",
       "    }\n",
       "\n",
       "    .dataframe thead th {\n",
       "        text-align: right;\n",
       "    }\n",
       "</style>\n",
       "<table border=\"1\" class=\"dataframe\">\n",
       "  <thead>\n",
       "    <tr style=\"text-align: right;\">\n",
       "      <th></th>\n",
       "      <th>cc_num</th>\n",
       "      <th>merchant</th>\n",
       "      <th>trans_date_trans_time</th>\n",
       "      <th>amt</th>\n",
       "      <th>category</th>\n",
       "      <th>is_fraud</th>\n",
       "      <th>city</th>\n",
       "      <th>city_pop</th>\n",
       "      <th>dob</th>\n",
       "      <th>first</th>\n",
       "      <th>gender</th>\n",
       "      <th>job</th>\n",
       "      <th>last</th>\n",
       "      <th>lat</th>\n",
       "      <th>long</th>\n",
       "      <th>state</th>\n",
       "      <th>street</th>\n",
       "      <th>zip</th>\n",
       "      <th>merch_lat</th>\n",
       "      <th>merch_long</th>\n",
       "    </tr>\n",
       "  </thead>\n",
       "  <tbody>\n",
       "    <tr>\n",
       "      <th>0</th>\n",
       "      <td>502049568400</td>\n",
       "      <td>fraud_Rippin, Kub and Mann</td>\n",
       "      <td>2019-01-18 01:46:20</td>\n",
       "      <td>2.95</td>\n",
       "      <td>misc_net</td>\n",
       "      <td>0</td>\n",
       "      <td>Marion</td>\n",
       "      <td>370</td>\n",
       "      <td>1962-02-13</td>\n",
       "      <td>Daniel</td>\n",
       "      <td>M</td>\n",
       "      <td>Health service manager</td>\n",
       "      <td>Melton</td>\n",
       "      <td>41.7918</td>\n",
       "      <td>-72.7188</td>\n",
       "      <td>CT</td>\n",
       "      <td>6157 Nichols Mews</td>\n",
       "      <td>6444</td>\n",
       "      <td>31.164104</td>\n",
       "      <td>-91.01738</td>\n",
       "    </tr>\n",
       "  </tbody>\n",
       "</table>\n",
       "</div>"
      ],
      "text/plain": [
       "         cc_num                    merchant trans_date_trans_time   amt  \\\n",
       "0  502049568400  fraud_Rippin, Kub and Mann   2019-01-18 01:46:20  2.95   \n",
       "\n",
       "   category  is_fraud    city  city_pop         dob   first gender  \\\n",
       "0  misc_net         0  Marion       370  1962-02-13  Daniel      M   \n",
       "\n",
       "                      job    last      lat     long state             street  \\\n",
       "0  Health service manager  Melton  41.7918 -72.7188    CT  6157 Nichols Mews   \n",
       "\n",
       "    zip  merch_lat  merch_long  \n",
       "0  6444  31.164104   -91.01738  "
      ]
     },
     "execution_count": 10,
     "metadata": {},
     "output_type": "execute_result"
    }
   ],
   "source": [
    "all_df = transactions.join(credit_card_nodes.set_index('cc_num'), on='cc_num').join(merchant_nodes.set_index('merchant'), on='merchant')\n",
    "all_df.head(1)"
   ]
  },
  {
   "cell_type": "code",
   "execution_count": 11,
   "metadata": {},
   "outputs": [],
   "source": [
    "all_df = all_df.assign(trans_date_trans_time= list(map(lambda x: pd.to_datetime(x), all_df.trans_date_trans_time)))"
   ]
  },
  {
   "cell_type": "code",
   "execution_count": 12,
   "metadata": {},
   "outputs": [
    {
     "data": {
      "text/plain": [
       "(265340, 20)"
      ]
     },
     "execution_count": 12,
     "metadata": {},
     "output_type": "execute_result"
    }
   ],
   "source": [
    "df_not_fraud = all_df[all_df['is_fraud'] == 0].sample(frac=0.2, random_state=999)\n",
    "df_fraud = all_df[all_df['is_fraud'] == 1]\n",
    "df_undersampled = pd.concat([df_not_fraud, df_fraud])\n",
    "df_undersampled.shape"
   ]
  },
  {
   "cell_type": "code",
   "execution_count": 13,
   "metadata": {},
   "outputs": [
    {
     "data": {
      "text/plain": [
       "(   index               cc_num                    merchant  \\\n",
       " 0    111  4536996888716062123  fraud_Rippin, Kub and Mann   \n",
       " \n",
       "   trans_date_trans_time     amt  category  is_fraud      city  city_pop  \\\n",
       " 0   2020-05-06 03:07:40  779.23  misc_net         1  Espanola     18408   \n",
       " \n",
       "           dob   first gender  \\\n",
       " 0  1972-07-18  Nathan      M   \n",
       " \n",
       "                                                  job     last      lat  \\\n",
       " 0  Historic buildings inspector/conservation officer  Mendoza  35.9866   \n",
       " \n",
       "        long state                  street    zip  merch_lat  merch_long  \n",
       " 0 -106.0654    NM  767 Adam Mill Apt. 115  87533  31.164104   -91.01738  ,\n",
       " (15012, 21))"
      ]
     },
     "execution_count": 13,
     "metadata": {},
     "output_type": "execute_result"
    }
   ],
   "source": [
    "from sklearn.utils import resample\n",
    "\n",
    "non_fraud_rows = df_undersampled[df_undersampled['is_fraud'] == 0].copy()\n",
    "fraud_rows = df_undersampled[df_undersampled['is_fraud'] == 1].copy()\n",
    "non_fraud_downsampled = resample(\n",
    "        non_fraud_rows, \n",
    "        n_samples=len(fraud_rows), \n",
    "        replace=False, \n",
    "        random_state=42\n",
    "    )\n",
    "balanced_df = pd.concat([fraud_rows, non_fraud_downsampled])\n",
    "balanced_df = balanced_df.reset_index()\n",
    "balanced_df.head(1), balanced_df.shape"
   ]
  },
  {
   "cell_type": "code",
   "execution_count": 14,
   "metadata": {},
   "outputs": [
    {
     "data": {
      "text/plain": [
       "((11259, 21), (3753, 21))"
      ]
     },
     "execution_count": 14,
     "metadata": {},
     "output_type": "execute_result"
    }
   ],
   "source": [
    "from sklearn.model_selection import train_test_split\n",
    "\n",
    "balanced_df_train, balanced_df_test = train_test_split(balanced_df, test_size=0.25, random_state=42)\n",
    "balanced_df_train.shape, balanced_df_test.shape"
   ]
  },
  {
   "cell_type": "code",
   "execution_count": 15,
   "metadata": {},
   "outputs": [],
   "source": [
    "import numpy as np\n",
    "\n",
    "n = len(balanced_df)\n",
    "\n",
    "train_mask = [i in balanced_df_train.index for i in range(n)]\n",
    "test_mask = [i in balanced_df_test.index for i in range(n)]\n",
    "train_mask = np.array(train_mask)\n",
    "test_mask = np.array(test_mask)"
   ]
  },
  {
   "cell_type": "markdown",
   "metadata": {},
   "source": [
    "Run the below the 1st time you run this notebook. Afterwards it will load the created edge_index needed for the GCN"
   ]
  },
  {
   "cell_type": "code",
   "execution_count": 16,
   "metadata": {},
   "outputs": [],
   "source": [
    "# def compute_time_difference(group):\n",
    "#     n = len(group)\n",
    "#     result = []\n",
    "#     for i in range(n):\n",
    "#         for j in range(n):\n",
    "#             time_difference = abs(group.iloc[i].trans_date_trans_time.value - group.iloc[j].trans_date_trans_time.value)\n",
    "#             result.append([group.iloc[i].name, group.iloc[j].name, time_difference])\n",
    "#     return result\n",
    "# groups = balanced_df.groupby('cc_num')\n",
    "# edge_index_list = [compute_time_difference(group) for _, group in groups]\n",
    "# edge_index_list_flat = [item for sublist in edge_index_list for item in sublist]\n",
    "# edge_index_list_flat_np = np.array(edge_index_list_flat)\n",
    "# np.save('edge_index_list_flat.npy', edge_index_list_flat_np)"
   ]
  },
  {
   "cell_type": "code",
   "execution_count": 17,
   "metadata": {},
   "outputs": [
    {
     "data": {
      "text/plain": [
       "(41288, 3)"
      ]
     },
     "execution_count": 17,
     "metadata": {},
     "output_type": "execute_result"
    }
   ],
   "source": [
    "edge_index = np.load('edge_index_list_flat.npy')\n",
    "edge_index.shape"
   ]
  },
  {
   "cell_type": "code",
   "execution_count": 18,
   "metadata": {},
   "outputs": [
    {
     "data": {
      "text/plain": [
       "0.5879068658910387"
      ]
     },
     "execution_count": 18,
     "metadata": {},
     "output_type": "execute_result"
    }
   ],
   "source": [
    "theta = edge_index[:,2].mean()\n",
    "edge_index = np.load('edge_index_list_flat.npy').astype(np.float64)\n",
    "edge_index[:,2] = (np.exp(-edge_index[:,2]/theta) != 1)*(np.exp(-edge_index[:,2]/theta))\n",
    "edge_index = edge_index.tolist()\n",
    "mean_ = np.array(edge_index)[:,2].mean()\n",
    "mean_"
   ]
  },
  {
   "cell_type": "code",
   "execution_count": 19,
   "metadata": {},
   "outputs": [
    {
     "data": {
      "text/plain": [
       "[[3186.0, 3186.0, 0.0],\n",
       " [3186.0, 3607.0, 0.33761861198557613],\n",
       " [3607.0, 3186.0, 0.33761861198557613],\n",
       " [3607.0, 3607.0, 0.0],\n",
       " [2616.0, 2616.0, 0.0]]"
      ]
     },
     "execution_count": 19,
     "metadata": {},
     "output_type": "execute_result"
    }
   ],
   "source": [
    "edge_index[:5]"
   ]
  },
  {
   "cell_type": "code",
   "execution_count": 20,
   "metadata": {},
   "outputs": [
    {
     "data": {
      "text/plain": [
       "torch.Size([2, 23278])"
      ]
     },
     "execution_count": 20,
     "metadata": {},
     "output_type": "execute_result"
    }
   ],
   "source": [
    "import torch\n",
    "torch.device('mps')\n",
    "\n",
    "selected_edges = [(int(row[0]), int(row[1])) for row in edge_index if row[2] > mean_]\n",
    "edge_index_selected = torch.tensor(selected_edges, dtype=torch.long).t()\n",
    "edge_index_selected.shape"
   ]
  },
  {
   "cell_type": "code",
   "execution_count": 21,
   "metadata": {},
   "outputs": [
    {
     "data": {
      "text/html": [
       "<div>\n",
       "<style scoped>\n",
       "    .dataframe tbody tr th:only-of-type {\n",
       "        vertical-align: middle;\n",
       "    }\n",
       "\n",
       "    .dataframe tbody tr th {\n",
       "        vertical-align: top;\n",
       "    }\n",
       "\n",
       "    .dataframe thead th {\n",
       "        text-align: right;\n",
       "    }\n",
       "</style>\n",
       "<table border=\"1\" class=\"dataframe\">\n",
       "  <thead>\n",
       "    <tr style=\"text-align: right;\">\n",
       "      <th></th>\n",
       "      <th>index</th>\n",
       "      <th>cc_num</th>\n",
       "      <th>merchant</th>\n",
       "      <th>trans_date_trans_time</th>\n",
       "      <th>amt</th>\n",
       "      <th>category</th>\n",
       "      <th>is_fraud</th>\n",
       "      <th>city</th>\n",
       "      <th>city_pop</th>\n",
       "      <th>dob</th>\n",
       "      <th>first</th>\n",
       "      <th>gender</th>\n",
       "      <th>job</th>\n",
       "      <th>last</th>\n",
       "      <th>lat</th>\n",
       "      <th>long</th>\n",
       "      <th>state</th>\n",
       "      <th>street</th>\n",
       "      <th>zip</th>\n",
       "      <th>merch_lat</th>\n",
       "      <th>merch_long</th>\n",
       "    </tr>\n",
       "  </thead>\n",
       "  <tbody>\n",
       "    <tr>\n",
       "      <th>0</th>\n",
       "      <td>111</td>\n",
       "      <td>4536996888716062123</td>\n",
       "      <td>fraud_Rippin, Kub and Mann</td>\n",
       "      <td>2020-05-06 03:07:40</td>\n",
       "      <td>779.23</td>\n",
       "      <td>misc_net</td>\n",
       "      <td>1</td>\n",
       "      <td>Espanola</td>\n",
       "      <td>18408</td>\n",
       "      <td>1972-07-18</td>\n",
       "      <td>Nathan</td>\n",
       "      <td>M</td>\n",
       "      <td>Historic buildings inspector/conservation officer</td>\n",
       "      <td>Mendoza</td>\n",
       "      <td>35.9866</td>\n",
       "      <td>-106.0654</td>\n",
       "      <td>NM</td>\n",
       "      <td>767 Adam Mill Apt. 115</td>\n",
       "      <td>87533</td>\n",
       "      <td>31.164104</td>\n",
       "      <td>-91.01738</td>\n",
       "    </tr>\n",
       "  </tbody>\n",
       "</table>\n",
       "</div>"
      ],
      "text/plain": [
       "   index               cc_num                    merchant  \\\n",
       "0    111  4536996888716062123  fraud_Rippin, Kub and Mann   \n",
       "\n",
       "  trans_date_trans_time     amt  category  is_fraud      city  city_pop  \\\n",
       "0   2020-05-06 03:07:40  779.23  misc_net         1  Espanola     18408   \n",
       "\n",
       "          dob   first gender  \\\n",
       "0  1972-07-18  Nathan      M   \n",
       "\n",
       "                                                 job     last      lat  \\\n",
       "0  Historic buildings inspector/conservation officer  Mendoza  35.9866   \n",
       "\n",
       "       long state                  street    zip  merch_lat  merch_long  \n",
       "0 -106.0654    NM  767 Adam Mill Apt. 115  87533  31.164104   -91.01738  "
      ]
     },
     "execution_count": 21,
     "metadata": {},
     "output_type": "execute_result"
    }
   ],
   "source": [
    "pd.set_option('display.max_columns', None)\n",
    "balanced_df.head(1)"
   ]
  },
  {
   "cell_type": "code",
   "execution_count": 22,
   "metadata": {},
   "outputs": [],
   "source": [
    "category_dummies = pd.get_dummies(balanced_df['category'], drop_first=True)\n",
    "balanced_df = pd.concat([balanced_df, category_dummies], axis=1)"
   ]
  },
  {
   "cell_type": "code",
   "execution_count": 23,
   "metadata": {},
   "outputs": [
    {
     "data": {
      "text/html": [
       "<div>\n",
       "<style scoped>\n",
       "    .dataframe tbody tr th:only-of-type {\n",
       "        vertical-align: middle;\n",
       "    }\n",
       "\n",
       "    .dataframe tbody tr th {\n",
       "        vertical-align: top;\n",
       "    }\n",
       "\n",
       "    .dataframe thead th {\n",
       "        text-align: right;\n",
       "    }\n",
       "</style>\n",
       "<table border=\"1\" class=\"dataframe\">\n",
       "  <thead>\n",
       "    <tr style=\"text-align: right;\">\n",
       "      <th></th>\n",
       "      <th>index</th>\n",
       "      <th>cc_num</th>\n",
       "      <th>merchant</th>\n",
       "      <th>trans_date_trans_time</th>\n",
       "      <th>amt</th>\n",
       "      <th>category</th>\n",
       "      <th>is_fraud</th>\n",
       "      <th>city</th>\n",
       "      <th>city_pop</th>\n",
       "      <th>dob</th>\n",
       "      <th>first</th>\n",
       "      <th>gender</th>\n",
       "      <th>job</th>\n",
       "      <th>last</th>\n",
       "      <th>lat</th>\n",
       "      <th>long</th>\n",
       "      <th>state</th>\n",
       "      <th>street</th>\n",
       "      <th>zip</th>\n",
       "      <th>merch_lat</th>\n",
       "      <th>merch_long</th>\n",
       "      <th>food_dining</th>\n",
       "      <th>gas_transport</th>\n",
       "      <th>grocery_net</th>\n",
       "      <th>grocery_pos</th>\n",
       "      <th>health_fitness</th>\n",
       "      <th>home</th>\n",
       "      <th>kids_pets</th>\n",
       "      <th>misc_net</th>\n",
       "      <th>misc_pos</th>\n",
       "      <th>personal_care</th>\n",
       "      <th>shopping_net</th>\n",
       "      <th>shopping_pos</th>\n",
       "      <th>travel</th>\n",
       "    </tr>\n",
       "  </thead>\n",
       "  <tbody>\n",
       "    <tr>\n",
       "      <th>0</th>\n",
       "      <td>111</td>\n",
       "      <td>4536996888716062123</td>\n",
       "      <td>fraud_Rippin, Kub and Mann</td>\n",
       "      <td>2020-05-06 03:07:40</td>\n",
       "      <td>779.23</td>\n",
       "      <td>misc_net</td>\n",
       "      <td>1</td>\n",
       "      <td>Espanola</td>\n",
       "      <td>18408</td>\n",
       "      <td>1972-07-18</td>\n",
       "      <td>Nathan</td>\n",
       "      <td>M</td>\n",
       "      <td>Historic buildings inspector/conservation officer</td>\n",
       "      <td>Mendoza</td>\n",
       "      <td>35.9866</td>\n",
       "      <td>-106.0654</td>\n",
       "      <td>NM</td>\n",
       "      <td>767 Adam Mill Apt. 115</td>\n",
       "      <td>87533</td>\n",
       "      <td>31.164104</td>\n",
       "      <td>-91.01738</td>\n",
       "      <td>0</td>\n",
       "      <td>0</td>\n",
       "      <td>0</td>\n",
       "      <td>0</td>\n",
       "      <td>0</td>\n",
       "      <td>0</td>\n",
       "      <td>0</td>\n",
       "      <td>1</td>\n",
       "      <td>0</td>\n",
       "      <td>0</td>\n",
       "      <td>0</td>\n",
       "      <td>0</td>\n",
       "      <td>0</td>\n",
       "    </tr>\n",
       "  </tbody>\n",
       "</table>\n",
       "</div>"
      ],
      "text/plain": [
       "   index               cc_num                    merchant  \\\n",
       "0    111  4536996888716062123  fraud_Rippin, Kub and Mann   \n",
       "\n",
       "  trans_date_trans_time     amt  category  is_fraud      city  city_pop  \\\n",
       "0   2020-05-06 03:07:40  779.23  misc_net         1  Espanola     18408   \n",
       "\n",
       "          dob   first gender  \\\n",
       "0  1972-07-18  Nathan      M   \n",
       "\n",
       "                                                 job     last      lat  \\\n",
       "0  Historic buildings inspector/conservation officer  Mendoza  35.9866   \n",
       "\n",
       "       long state                  street    zip  merch_lat  merch_long  \\\n",
       "0 -106.0654    NM  767 Adam Mill Apt. 115  87533  31.164104   -91.01738   \n",
       "\n",
       "   food_dining  gas_transport  grocery_net  grocery_pos  health_fitness  home  \\\n",
       "0            0              0            0            0               0     0   \n",
       "\n",
       "   kids_pets  misc_net  misc_pos  personal_care  shopping_net  shopping_pos  \\\n",
       "0          0         1         0              0             0             0   \n",
       "\n",
       "   travel  \n",
       "0       0  "
      ]
     },
     "execution_count": 23,
     "metadata": {},
     "output_type": "execute_result"
    }
   ],
   "source": [
    "balanced_df.head(1)"
   ]
  },
  {
   "cell_type": "code",
   "execution_count": 24,
   "metadata": {},
   "outputs": [],
   "source": [
    "features = balanced_df[['lat', 'long', 'amt', 'merch_lat', 'merch_long', *category_dummies.columns]].values"
   ]
  },
  {
   "cell_type": "code",
   "execution_count": 38,
   "metadata": {},
   "outputs": [
    {
     "data": {
      "text/plain": [
       "Index(['food_dining', 'gas_transport', 'grocery_net', 'grocery_pos',\n",
       "       'health_fitness', 'home', 'kids_pets', 'misc_net', 'misc_pos',\n",
       "       'personal_care', 'shopping_net', 'shopping_pos', 'travel'],\n",
       "      dtype='object')"
      ]
     },
     "execution_count": 38,
     "metadata": {},
     "output_type": "execute_result"
    }
   ],
   "source": [
    "category_dummies.columns"
   ]
  },
  {
   "cell_type": "code",
   "execution_count": 25,
   "metadata": {},
   "outputs": [
    {
     "data": {
      "text/plain": [
       "(15012, 18)"
      ]
     },
     "execution_count": 25,
     "metadata": {},
     "output_type": "execute_result"
    }
   ],
   "source": [
    "features.shape"
   ]
  },
  {
   "cell_type": "code",
   "execution_count": 26,
   "metadata": {},
   "outputs": [
    {
     "data": {
      "text/plain": [
       "Data(x=[15012, 18], edge_index=[2, 23278], y=[15012], train_mask=[15012], test_mask=[15012])"
      ]
     },
     "execution_count": 26,
     "metadata": {},
     "output_type": "execute_result"
    }
   ],
   "source": [
    "from torch_geometric.data import Data\n",
    "\n",
    "x = torch.tensor(features, dtype=torch.float)\n",
    "y = torch.tensor(balanced_df['is_fraud'],dtype=torch.int64)\n",
    "data = Data(x=x, edge_index = edge_index_selected, y=y, train_mask = train_mask, test_mask = test_mask)\n",
    "data"
   ]
  },
  {
   "cell_type": "markdown",
   "metadata": {},
   "source": [
    "## GNNPaper model"
   ]
  },
  {
   "cell_type": "code",
   "execution_count": 28,
   "metadata": {},
   "outputs": [],
   "source": [
    "from torch_geometric.nn import GCNConv\n",
    "import torch.nn.functional as F\n",
    "\n",
    "class GCN(torch.nn.Module):\n",
    "    def __init__(self):\n",
    "        super().__init__()\n",
    "        self.conv1 = GCNConv(18, 64)\n",
    "        self.conv2 = GCNConv(64,32)\n",
    "        self.conv3 = GCNConv(32,16)\n",
    "        self.conv4 = GCNConv(16,2)\n",
    "\n",
    "    def forward(self, data):\n",
    "        x, edge_index = data.x, data.edge_index\n",
    "\n",
    "        x = self.conv1(x, edge_index)\n",
    "        x = F.relu(x)\n",
    "        x = F.dropout(x, training=self.training)\n",
    "        x = self.conv2(x, edge_index)\n",
    "        x = F.relu(x)\n",
    "        x = F.dropout(x, training=self.training)\n",
    "        x = self.conv3(x, edge_index)\n",
    "        x = F.relu(x)\n",
    "        x = F.dropout(x, training=self.training)\n",
    "        x = self.conv4(x, edge_index)\n",
    "\n",
    "        return F.log_softmax(x, dim=1)"
   ]
  },
  {
   "cell_type": "code",
   "execution_count": 30,
   "metadata": {},
   "outputs": [
    {
     "name": "stdout",
     "output_type": "stream",
     "text": [
      "Epoch: 0, Loss: 42.002960205078125\n",
      "Epoch: 20, Loss: 0.6261407136917114\n",
      "Epoch: 40, Loss: 0.48851659893989563\n",
      "Epoch: 60, Loss: 0.4643438756465912\n",
      "Epoch: 80, Loss: 0.4410637319087982\n",
      "Epoch: 100, Loss: 0.42365044355392456\n",
      "Epoch: 120, Loss: 0.4067728817462921\n",
      "Epoch: 140, Loss: 0.4186851978302002\n",
      "Epoch: 160, Loss: 0.4084852337837219\n",
      "Epoch: 180, Loss: 0.4082525074481964\n",
      "Epoch: 200, Loss: 0.3949858248233795\n",
      "Epoch: 220, Loss: 0.3920055031776428\n",
      "Epoch: 240, Loss: 0.40215107798576355\n",
      "Epoch: 260, Loss: 0.3791128098964691\n",
      "Epoch: 280, Loss: 0.3808738589286804\n",
      "Epoch: 300, Loss: 0.37671977281570435\n",
      "Epoch: 320, Loss: 0.3730270266532898\n",
      "Epoch: 340, Loss: 0.3760174512863159\n",
      "Epoch: 360, Loss: 0.37602898478507996\n",
      "Epoch: 380, Loss: 0.3673294484615326\n",
      "Epoch: 400, Loss: 0.36185553669929504\n",
      "Epoch: 420, Loss: 0.36592188477516174\n",
      "Epoch: 440, Loss: 0.3637107014656067\n",
      "Epoch: 460, Loss: 0.35867902636528015\n",
      "Epoch: 480, Loss: 0.3573552072048187\n",
      "Epoch: 500, Loss: 0.35035184025764465\n",
      "Epoch: 520, Loss: 0.35021716356277466\n",
      "Epoch: 540, Loss: 0.3396616280078888\n",
      "Epoch: 560, Loss: 0.3425956666469574\n",
      "Epoch: 580, Loss: 0.33787819743156433\n",
      "Epoch: 600, Loss: 0.3342730402946472\n"
     ]
    }
   ],
   "source": [
    "model = GCN()\n",
    "optimizer = torch.optim.AdamW(model.parameters(), lr=0.01, weight_decay=5e-4)\n",
    "model.train()\n",
    "losses = []\n",
    "for epoch in range(601):\n",
    "    optimizer.zero_grad()\n",
    "    out = model(data)\n",
    "    loss = F.nll_loss(out[data.train_mask], data.y[data.train_mask])\n",
    "    losses.append(loss.item())\n",
    "    if epoch % 20 == 0:\n",
    "        print(f'Epoch: {epoch}, Loss: {loss.item()}')\n",
    "    loss.backward()\n",
    "    optimizer.step()"
   ]
  },
  {
   "cell_type": "code",
   "execution_count": 31,
   "metadata": {},
   "outputs": [
    {
     "data": {
      "text/plain": [
       "GCN(\n",
       "  (conv1): GCNConv(18, 64)\n",
       "  (conv2): GCNConv(64, 32)\n",
       "  (conv3): GCNConv(32, 16)\n",
       "  (conv4): GCNConv(16, 2)\n",
       ")"
      ]
     },
     "execution_count": 31,
     "metadata": {},
     "output_type": "execute_result"
    }
   ],
   "source": [
    "model.eval()"
   ]
  },
  {
   "cell_type": "code",
   "execution_count": 32,
   "metadata": {},
   "outputs": [],
   "source": [
    "pred = model(data).argmax(dim=1)\n",
    "y_test = data.y[data.test_mask]\n",
    "y_pred = pred[data.test_mask]"
   ]
  },
  {
   "cell_type": "code",
   "execution_count": 33,
   "metadata": {},
   "outputs": [
    {
     "name": "stdout",
     "output_type": "stream",
     "text": [
      "Accuracy: 0.8956, Precision: 0.9714, Recall: 0.8147, F1: 0.8862\n"
     ]
    },
    {
     "data": {
      "image/png": "[encoded data removed]",
      "text/plain": [
       "<Figure size 640x480 with 2 Axes>"
      ]
     },
     "metadata": {},
     "output_type": "display_data"
    }
   ],
   "source": [
    "import matplotlib.pyplot as plt\n",
    "from sklearn.metrics import confusion_matrix, ConfusionMatrixDisplay\n",
    "from sklearn.metrics import accuracy_score, precision_score, recall_score, f1_score\n",
    "\n",
    "accuracy = round(accuracy_score(y_test, y_pred), 4)\n",
    "precision = round(precision_score(y_test, y_pred), 4)\n",
    "recall = round(recall_score(y_test, y_pred), 4)\n",
    "f1 = round(f1_score(y_test, y_pred), 4)\n",
    "\n",
    "print(f'Accuracy: {accuracy}, Precision: {precision}, Recall: {recall}, F1: {f1}')\n",
    "\n",
    "cm = confusion_matrix(y_test, y_pred)\n",
    "disp = ConfusionMatrixDisplay(confusion_matrix=cm, display_labels=['Not Fraud', 'Fraud'])\n",
    "disp.plot()\n",
    "plt.show()"
   ]
  },
  {
   "cell_type": "code",
   "execution_count": 34,
   "metadata": {},
   "outputs": [],
   "source": [
    "single_test_case = data.x[data.test_mask][-1].unsqueeze(0)\n",
    "\n",
    "empty_edge_index = torch.empty((2, 0), dtype=torch.long) \n",
    "\n",
    "single_test_data = Data(x=single_test_case, edge_index=empty_edge_index)"
   ]
  },
  {
   "cell_type": "code",
   "execution_count": 35,
   "metadata": {},
   "outputs": [
    {
     "data": {
      "text/plain": [
       "(Data(x=[1, 18], edge_index=[2, 0]),\n",
       " Data(x=[15012, 18], edge_index=[2, 23278], y=[15012], train_mask=[15012], test_mask=[15012]))"
      ]
     },
     "execution_count": 35,
     "metadata": {},
     "output_type": "execute_result"
    }
   ],
   "source": [
    "single_test_data, data"
   ]
  },
  {
   "cell_type": "code",
   "execution_count": 120,
   "metadata": {},
   "outputs": [
    {
     "name": "stdout",
     "output_type": "stream",
     "text": [
      "Predicted class: 0\n"
     ]
    }
   ],
   "source": [
    "model.eval()\n",
    "\n",
    "with torch.no_grad():\n",
    "    prediction = model(single_test_data)\n",
    "\n",
    "predicted_class = prediction.argmax(dim=1).item()\n",
    "\n",
    "print(f\"Predicted class: {predicted_class}\")"
   ]
  },
  {
   "cell_type": "code",
   "execution_count": null,
   "metadata": {},
   "outputs": [],
   "source": []
  }
 ],
 "metadata": {
  "kernelspec": {
   "display_name": "base",
   "language": "python",
   "name": "python3"
  },
  "language_info": {
   "codemirror_mode": {
    "name": "ipython",
    "version": 3
   },
   "file_extension": ".py",
   "mimetype": "text/x-python",
   "name": "python",
   "nbconvert_exporter": "python",
   "pygments_lexer": "ipython3",
   "version": "3.11.9"
  }
 },
 "nbformat": 4,
 "nbformat_minor": 2
}
